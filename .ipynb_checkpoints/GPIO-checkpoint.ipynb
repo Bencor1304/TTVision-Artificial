{
 "cells": [
  {
   "cell_type": "code",
   "execution_count": 25,
   "id": "9bb456c4-a849-4f4e-9126-82eff11e5abc",
   "metadata": {},
   "outputs": [],
   "source": [
    "#Configuracion inicial \n",
    "import Jetson.GPIO as GPIO\n",
    "import time\n",
    "GPIO.setmode(GPIO.BOARD)\n",
    "GPIO.setwarnings(False)"
   ]
  },
  {
   "cell_type": "code",
   "execution_count": 26,
   "id": "fdab2370-531a-4a2a-a8c7-106fca0fa87d",
   "metadata": {},
   "outputs": [],
   "source": [
    "#Entradas\n",
    "GPIO.setup(7,GPIO.IN)  # Sensor SA1\n",
    "GPIO.setup(11,GPIO.IN) # Sensor SA2\n",
    "GPIO.setup(13,GPIO.IN) # Sensor SB1\n",
    "GPIO.setup(15,GPIO.IN) # Sensor SB2\n",
    "GPIO.setup(19,GPIO.IN) # Sensor SC1\n",
    "GPIO.setup(21,GPIO.IN) # Sensor SC2\n",
    "GPIO.setup(23,GPIO.IN) # Sensor SD1\n",
    "GPIO.setup(29,GPIO.IN) # Sensor SD2\n",
    "GPIO.setup(31,GPIO.IN) # Sensor BS\n",
    "GPIO.setup(33,GPIO.IN) # Sensor LS\n",
    "GPIO.setup(35,GPIO.IN) # Paro de emergencia\n"
   ]
  },
  {
   "cell_type": "code",
   "execution_count": 27,
   "id": "1af62a93-9bcf-45ed-94dd-671cd73abde5",
   "metadata": {},
   "outputs": [],
   "source": [
    "# Salidas\n",
    "GPIO.setup(40,GPIO.OUT)  # Electrovalvula YA1\n",
    "GPIO.setup(38,GPIO.OUT)  # Electrovalvula YB1\n",
    "GPIO.setup(36,GPIO.OUT)  # Electrovalvula YC1\n",
    "GPIO.setup(32,GPIO.OUT)  # Electrovalvula YD1\n",
    "GPIO.setup(26,GPIO.OUT)  # Indicador Led YL1 (verde)\n",
    "GPIO.setup(24,GPIO.OUT)  # Indicador Led YL2 (amarillo)\n",
    "GPIO.setup(22,GPIO.OUT)  # Indicador Led YL3 (rojo)"
   ]
  },
  {
   "cell_type": "code",
   "execution_count": 28,
   "id": "ed86768c-34d4-4de3-9f44-5ba608b8902d",
   "metadata": {},
   "outputs": [],
   "source": [
    "#TAGS\n",
    "\n",
    "SA2=GPIO.input(11)\n",
    "SB1=GPIO.input(13)\n",
    "SB2=GPIO.input(15)\n",
    "SC1=GPIO.input(19)\n",
    "\n",
    "SD1=GPIO.input(23)\n",
    "SD2=GPIO.input(29)\n",
    "BS=GPIO.input(31)\n",
    "\n"
   ]
  },
  {
   "cell_type": "code",
   "execution_count": 29,
   "id": "b6621a3f-1c53-4eec-9223-57129232e35a",
   "metadata": {},
   "outputs": [],
   "source": [
    "# funcion falla \n",
    "def falla():\n",
    "    BS=GPIO.input(31)\n",
    "    BS_PARO=0\n",
    "    timer_BS=0\n",
    "    while BS==1 and BS_PARO==0:\n",
    "        BS=GPIO.input(31)\n",
    "        time.sleep(1)\n",
    "        timer_BS=timer_BS+1\n",
    "        if timer_BS>=10:\n",
    "            BS_PARO=1\n",
    "        else:\n",
    "            BS_PARO=0\n",
    "            \n",
    "    PE=GPIO.input(35)\n",
    "    \n",
    "    if PE==1 or BS_PARO==1:\n",
    "        falla_activa=1\n",
    "    else :\n",
    "        falla_activa=0\n",
    "    return falla_activa\n",
    "        \n",
    "    "
   ]
  },
  {
   "cell_type": "code",
   "execution_count": 30,
   "id": "4c76de11-dabb-4271-87dc-9cc38daf109f",
   "metadata": {},
   "outputs": [],
   "source": [
    "#Secuencia de Emergencia\n",
    "def secuencia_emergencia():\n",
    "    GPIO.output(36,1)\n",
    "    GPIO.output(22,1)"
   ]
  },
  {
   "cell_type": "code",
   "execution_count": 54,
   "id": "e1894f06-c4a8-42c6-9f32-c819ff9ed2b0",
   "metadata": {},
   "outputs": [],
   "source": [
    "#Secuencia A\n",
    "def secuencia_A(PC):\n",
    "    estado=0\n",
    "    falla_activa=0\n",
    "    \n",
    "    while estado==0 and falla_activa==0:         #YC1- (NA)\n",
    "        \n",
    "        SA1=GPIO.input(7)\n",
    "        SC2=GPIO.input(21)\n",
    "        LS=GPIO.input(33)\n",
    "        falla_activa=falla()\n",
    "        if PC==1 and SA1==1 and SC2==1 and LS==1 and falla_activa==0:\n",
    "            GPIO.output(36,1)\n",
    "            estado=GPIO.input(36)\n",
    "    \n",
    "    estado=0\n",
    "    while estado==0 and falla_activa==0:        #YA+\n",
    "        \n",
    "        SC1=GPIO.input(19)\n",
    "        falla_activa=falla()\n",
    "        if SC1==1 and falla_activa==0 :\n",
    "            GPIO.output(40,1)\n",
    "            estado=GPIO.input(40)\n",
    "    \n",
    "    estado=1\n",
    "    while estado==1 and falla_activa==0:       #YA-\n",
    "        \n",
    "        SA2=GPIO.input(11)\n",
    "        falla_activa=falla()\n",
    "        if SA2==1 and falla_activa==0 :\n",
    "            GPIO.output(40,0)\n",
    "            estado=GPIO.input(40)\n",
    "    \n",
    "    estado=1\n",
    "    while estado==1 and falla_activa==0:       #YC1+ (NA)\n",
    "        \n",
    "        SA1=GPIO.input(7)\n",
    "        LS=GPIO.input(33)\n",
    "        falla_activa=falla()\n",
    "        if SA1==1 and LS==0 and falla_activa==0 :\n",
    "            GPIO.output(36,0)\n",
    "            estado=GPIO.input(36)\n",
    "            \n",
    "    return falla_activa,estado        "
   ]
  },
  {
   "cell_type": "code",
   "execution_count": 55,
   "id": "8946931e-dbda-476b-b541-2a4431aae0e6",
   "metadata": {},
   "outputs": [
    {
     "data": {
      "text/plain": [
       "(0, 0)"
      ]
     },
     "execution_count": 55,
     "metadata": {},
     "output_type": "execute_result"
    }
   ],
   "source": [
    "secuencia_A(PC=1)"
   ]
  },
  {
   "cell_type": "code",
   "execution_count": null,
   "id": "e8cf6cc7-e159-484a-924f-bae80b94fd5b",
   "metadata": {},
   "outputs": [],
   "source": []
  },
  {
   "cell_type": "code",
   "execution_count": null,
   "id": "af6c3058-f106-4bcf-bdc3-3b76dec07819",
   "metadata": {},
   "outputs": [],
   "source": []
  },
  {
   "cell_type": "code",
   "execution_count": 53,
   "id": "294e2e34-a986-45cc-bb32-df15c87fcf69",
   "metadata": {},
   "outputs": [],
   "source": [
    "GPIO.output(36,0)\n",
    "GPIO.output(40,0)"
   ]
  },
  {
   "cell_type": "code",
   "execution_count": null,
   "id": "04b18348-3ef1-4147-8497-51651fad6c0d",
   "metadata": {},
   "outputs": [],
   "source": []
  },
  {
   "cell_type": "code",
   "execution_count": null,
   "id": "3fdbd862-8fe4-43d8-8e33-27a49d6fbaff",
   "metadata": {},
   "outputs": [],
   "source": []
  },
  {
   "cell_type": "code",
   "execution_count": null,
   "id": "ae0b1139-a18c-4d99-b832-4dea51c700c9",
   "metadata": {},
   "outputs": [],
   "source": [
    "GPIO.cleanup()"
   ]
  }
 ],
 "metadata": {
  "kernelspec": {
   "display_name": "Python 3",
   "language": "python",
   "name": "python3"
  },
  "language_info": {
   "codemirror_mode": {
    "name": "ipython",
    "version": 3
   },
   "file_extension": ".py",
   "mimetype": "text/x-python",
   "name": "python",
   "nbconvert_exporter": "python",
   "pygments_lexer": "ipython3",
   "version": "3.6.9"
  }
 },
 "nbformat": 4,
 "nbformat_minor": 5
}
