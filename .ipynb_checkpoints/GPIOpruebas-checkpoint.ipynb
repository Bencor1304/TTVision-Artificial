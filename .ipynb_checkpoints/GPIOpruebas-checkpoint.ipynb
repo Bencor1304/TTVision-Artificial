{
 "cells": [
  {
   "cell_type": "code",
   "execution_count": 1,
   "id": "c8a0594d-61b6-408e-b499-f1ecbe94ae24",
   "metadata": {},
   "outputs": [],
   "source": [
    "import Jetson.GPIO as GPIO\n",
    "import time"
   ]
  },
  {
   "cell_type": "code",
   "execution_count": 2,
   "id": "fdab2370-531a-4a2a-a8c7-106fca0fa87d",
   "metadata": {},
   "outputs": [],
   "source": [
    "def conf_init_gpio():\n",
    "    #Configuracion inicial \n",
    "    GPIO.setmode(GPIO.BOARD)\n",
    "    GPIO.setwarnings(False)\n",
    "    #Entradas\n",
    "    GPIO.setup(7,GPIO.IN)  # Sensor SA1\n",
    "    GPIO.setup(11,GPIO.IN) # Sensor SA2\n",
    "    GPIO.setup(13,GPIO.IN) # Sensor SB1\n",
    "    GPIO.setup(15,GPIO.IN) # Sensor SB2\n",
    "    GPIO.setup(19,GPIO.IN) # Sensor SC1\n",
    "    GPIO.setup(21,GPIO.IN) # Sensor SC2\n",
    "    GPIO.setup(23,GPIO.IN) # Sensor SD1\n",
    "    GPIO.setup(29,GPIO.IN) # Sensor SD2\n",
    "    GPIO.setup(31,GPIO.IN) # Sensor BS\n",
    "    GPIO.setup(33,GPIO.IN) # Sensor LS1\n",
    "    GPIO.setup(35,GPIO.IN) # Paro de emergencia\n",
    "    # Salidas\n",
    "    GPIO.setup(40,GPIO.OUT)  # Electrovalvula YA1\n",
    "    GPIO.setup(38,GPIO.OUT)  # Electrovalvula YB1\n",
    "    GPIO.setup(36,GPIO.OUT)  # Electrovalvula YC1\n",
    "    GPIO.setup(32,GPIO.OUT)  # Electrovalvula YD1\n",
    "    GPIO.setup(26,GPIO.OUT)  # Indicador Led YL1 (verde)\n",
    "    GPIO.setup(24,GPIO.OUT)  # Indicador Led YL2 (amarillo)\n",
    "    GPIO.setup(22,GPIO.OUT)  # Indicador Led YL3 (rojo)\n"
   ]
  },
  {
   "cell_type": "code",
   "execution_count": 5,
   "id": "b6621a3f-1c53-4eec-9223-57129232e35a",
   "metadata": {},
   "outputs": [],
   "source": [
    "# funcion falla \n",
    "def falla():\n",
    "    BS=GPIO.input(31)\n",
    "    BS_PARO=0\n",
    "    timer_BS=0\n",
    "    while BS==1 and BS_PARO==0:\n",
    "        BS=GPIO.input(31)\n",
    "        time.sleep(1)\n",
    "        timer_BS=timer_BS+1\n",
    "        if timer_BS>=10:\n",
    "            BS_PARO=1\n",
    "        else:\n",
    "            BS_PARO=0\n",
    "            \n",
    "    PE=GPIO.input(35)\n",
    "    \n",
    "    if PE==1 or BS_PARO==1:\n",
    "        falla_activa=1\n",
    "    else :\n",
    "        falla_activa=0\n",
    "    return falla_activa\n",
    "        \n",
    "    "
   ]
  },
  {
   "cell_type": "code",
   "execution_count": 60,
   "id": "4c76de11-dabb-4271-87dc-9cc38daf109f",
   "metadata": {},
   "outputs": [],
   "source": [
    "#Secuencia de Emergencia\n",
    "def secuencia_emergencia():\n",
    "    GPIO.output(36,1)\n",
    "    GPIO.output(22,1)"
   ]
  },
  {
   "cell_type": "code",
   "execution_count": 59,
   "id": "e1894f06-c4a8-42c6-9f32-c819ff9ed2b0",
   "metadata": {},
   "outputs": [],
   "source": [
    "#Secuencia A\n",
    "def secuencia_A(PC):\n",
    "    estado=0\n",
    "    falla_activa=0\n",
    "    \n",
    "    while estado==0 and falla_activa==0:         #YC1- (NA)\n",
    "        \n",
    "        SA1=GPIO.input(7)\n",
    "        SC2=GPIO.input(21)\n",
    "        LS1=GPIO.input(33)\n",
    "        falla_activa=falla()\n",
    "        if PC==1 and SA1==1 and SC2==1 and LS1==1 and falla_activa==0:\n",
    "            GPIO.output(36,1)\n",
    "            estado=GPIO.input(36)\n",
    "    \n",
    "    estado=0\n",
    "    while estado==0 and falla_activa==0:        #YA+\n",
    "        \n",
    "        SC1=GPIO.input(19)\n",
    "        falla_activa=falla()\n",
    "        if SC1==1 and falla_activa==0 :\n",
    "            GPIO.output(40,1)\n",
    "            estado=GPIO.input(40)\n",
    "    \n",
    "    estado=1\n",
    "    while estado==1 and falla_activa==0:       #YA-\n",
    "        \n",
    "        SA2=GPIO.input(11)\n",
    "        falla_activa=falla()\n",
    "        if SA2==1 and falla_activa==0 :\n",
    "            GPIO.output(40,0)\n",
    "            estado=GPIO.input(40)\n",
    "    \n",
    "    estado=1\n",
    "    while estado==1 and falla_activa==0:       #YC1+ (NA)\n",
    "        \n",
    "        SA1=GPIO.input(7)\n",
    "        LS1=GPIO.input(33)\n",
    "        falla_activa=falla()\n",
    "        if SA1==1 and LS1==0 and falla_activa==0 :\n",
    "            GPIO.output(36,0)\n",
    "            estado=GPIO.input(36)\n",
    "            \n",
    "    return falla_activa,estado        "
   ]
  },
  {
   "cell_type": "code",
   "execution_count": 72,
   "id": "e8cf6cc7-e159-484a-924f-bae80b94fd5b",
   "metadata": {},
   "outputs": [],
   "source": [
    "#Secuencia B\n",
    "def secuencia_B(NC):\n",
    "    estado=0\n",
    "    falla_activa=0\n",
    "    while estado==0 and falla_activa==0:         #YB1+\n",
    "        \n",
    "        SB1=GPIO.input(13)\n",
    "        SC2=GPIO.input(21)\n",
    "        falla_activa=falla()\n",
    "        if NC==1 and SB1==1 and SC2==1 and falla_activa==0:\n",
    "            GPIO.output(38,1)\n",
    "            estado=GPIO.input(38)\n",
    "    \n",
    "    estado=0\n",
    "    while estado==0 and falla_activa==0:        #YB1- YD1+\n",
    "        \n",
    "        SB2=GPIO.input(15)\n",
    "        SD1=GPIO.input(23)\n",
    "        falla_activa=falla()\n",
    "        if SB2==1 and SD1==1 and falla_activa==0 :\n",
    "            GPIO.output(38,0)\n",
    "            GPIO.output(32,1)\n",
    "            estado=GPIO.input(32)\n",
    "    \n",
    "    estado=1\n",
    "    while estado==1 and falla_activa==0:         #YD1-\n",
    "        \n",
    "        SD2=GPIO.input(29)\n",
    "        falla_activa=falla()\n",
    "        if SD2==1 and falla_activa==0:\n",
    "            GPIO.output(32,0)\n",
    "            estado=GPIO.input(32)\n",
    "            \n",
    "    return falla_activa,estado     \n",
    "            "
   ]
  },
  {
   "cell_type": "code",
   "execution_count": 2,
   "id": "befcc4fc-3212-45a8-ac86-46752bc6ca01",
   "metadata": {},
   "outputs": [],
   "source": [
    "#Reinicio \n",
    "def reiniciogpio():\n",
    "    GPIO.output(40,0) #YA1\n",
    "    GPIO.output(38,0) #YB1\n",
    "    GPIO.output(36,0) #YC1\n",
    "    GPIO.output(32,0) #YD1\n",
    "    GPIO.output(26,0) #YL1 (VERDE)\n",
    "    GPIO.output(24,0) #YL2 (AMARILLO)\n",
    "    GPIO.output(22,0) #YL3 (ROJO)"
   ]
  },
  {
   "cell_type": "code",
   "execution_count": 76,
   "id": "a3d4911d-20ae-470a-baa2-662b259bfc48",
   "metadata": {},
   "outputs": [],
   "source": [
    "#Inicio LS\n",
    "def inicio():\n",
    "    estado=0\n",
    "    while estado==0 and falla_activa==0:        #LS\n",
    "        \n",
    "        LS1=GPIO.input(33)\n",
    "        falla_activa=falla()\n",
    "        if LS1==1 and falla_activa==0 :\n",
    "            LS1=1\n",
    "            estado=1\n",
    "    return LS1"
   ]
  },
  {
   "cell_type": "code",
   "execution_count": 3,
   "id": "d67636b6-3b33-45ae-bf42-316bd780118e",
   "metadata": {},
   "outputs": [],
   "source": []
  },
  {
   "cell_type": "code",
   "execution_count": 5,
   "id": "ea37d2b2-71f8-49bd-b8a6-ea1a2950e609",
   "metadata": {},
   "outputs": [
    {
     "name": "stdout",
     "output_type": "stream",
     "text": [
      "Edge detected on channel 33\n"
     ]
    }
   ],
   "source": [
    "conf_init_gpio()\n",
    "LS=33\n",
    "channel = GPIO.wait_for_edge(LS, GPIO.RISING)\n",
    "if channel is None:\n",
    "    print('Timeout occurred')\n",
    "else:\n",
    "    print('Edge detected on channel', channel)"
   ]
  },
  {
   "cell_type": "code",
   "execution_count": 5,
   "id": "0539a150-b9f3-49e5-a5ea-426df679d64f",
   "metadata": {},
   "outputs": [],
   "source": [
    "channel=33\n",
    "def my_callback_one(channel):\n",
    "    print('Callback one')\n"
   ]
  },
  {
   "cell_type": "code",
   "execution_count": 3,
   "id": "9ba10be5-d2e0-4631-ab96-66d426785794",
   "metadata": {},
   "outputs": [],
   "source": [
    "conf_init_gpio()\n",
    "LS=33\n",
    "def paro(LS):\n",
    "    GPIO.cleanup(LS)\n",
    "    conf_init_gpio()\n",
    "    BS=GPIO.wait_for_edge(LS,GPIO.FALLING,timeout=10000) #1\n",
    "    if BS==None:\n",
    "        print('paro')\n",
    "    else:\n",
    "        print('continua')\n",
    "    confls()\n",
    "\n",
    "def confls():\n",
    "    GPIO.cleanup(LS)\n",
    "    conf_init_gpio()\n",
    "    GPIO.add_event_detect(LS, GPIO.RISING) #1\n",
    "    GPIO.add_event_callback(LS, paro)\n",
    "\n",
    "confls()"
   ]
  },
  {
   "cell_type": "code",
   "execution_count": 7,
   "id": "23bd0f19-890d-4172-b96d-f77183cf0676",
   "metadata": {},
   "outputs": [
    {
     "ename": "AttributeError",
     "evalue": "module 'Jetson.GPIO' has no attribute 'event_detect'",
     "output_type": "error",
     "traceback": [
      "\u001b[0;31m---------------------------------------------------------------------------\u001b[0m",
      "\u001b[0;31mAttributeError\u001b[0m                            Traceback (most recent call last)",
      "\u001b[0;32m<ipython-input-7-f323860c74b8>\u001b[0m in \u001b[0;36m<module>\u001b[0;34m\u001b[0m\n\u001b[1;32m      2\u001b[0m \u001b[0mconf_init_gpio\u001b[0m\u001b[0;34m(\u001b[0m\u001b[0;34m)\u001b[0m\u001b[0;34m\u001b[0m\u001b[0;34m\u001b[0m\u001b[0m\n\u001b[1;32m      3\u001b[0m \u001b[0mGPIO\u001b[0m\u001b[0;34m.\u001b[0m\u001b[0madd_event_detect\u001b[0m\u001b[0;34m(\u001b[0m\u001b[0mLS\u001b[0m\u001b[0;34m,\u001b[0m \u001b[0mGPIO\u001b[0m\u001b[0;34m.\u001b[0m\u001b[0mRISING\u001b[0m\u001b[0;34m)\u001b[0m\u001b[0;34m\u001b[0m\u001b[0;34m\u001b[0m\u001b[0m\n\u001b[0;32m----> 4\u001b[0;31m \u001b[0mGPIO\u001b[0m\u001b[0;34m.\u001b[0m\u001b[0mevent_detect\u001b[0m\u001b[0;34m(\u001b[0m\u001b[0mLS\u001b[0m\u001b[0;34m)\u001b[0m \u001b[0;31m#1\u001b[0m\u001b[0;34m\u001b[0m\u001b[0;34m\u001b[0m\u001b[0m\n\u001b[0m\u001b[1;32m      5\u001b[0m \u001b[0;34m\u001b[0m\u001b[0m\n",
      "\u001b[0;31mAttributeError\u001b[0m: module 'Jetson.GPIO' has no attribute 'event_detect'"
     ]
    }
   ],
   "source": [
    "LS=33\n",
    "conf_init_gpio()\n",
    "GPIO.add_event_detect(LS, GPIO.RISING)\n",
    "GPIO.event_detect(LS) #1\n",
    "\n"
   ]
  },
  {
   "cell_type": "code",
   "execution_count": null,
   "id": "e7acfaf0-bead-4da9-86fd-3863af2feae5",
   "metadata": {},
   "outputs": [],
   "source": []
  },
  {
   "cell_type": "code",
   "execution_count": null,
   "id": "98ec039d-dd56-4bca-96d3-d56f3183f688",
   "metadata": {},
   "outputs": [],
   "source": []
  }
 ],
 "metadata": {
  "kernelspec": {
   "display_name": "Python 3",
   "language": "python",
   "name": "python3"
  },
  "language_info": {
   "codemirror_mode": {
    "name": "ipython",
    "version": 3
   },
   "file_extension": ".py",
   "mimetype": "text/x-python",
   "name": "python",
   "nbconvert_exporter": "python",
   "pygments_lexer": "ipython3",
   "version": "3.6.9"
  }
 },
 "nbformat": 4,
 "nbformat_minor": 5
}
