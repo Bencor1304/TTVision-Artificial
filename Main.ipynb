{
 "cells": [
  {
   "cell_type": "code",
   "execution_count": null,
   "id": "4503a1f1-99c4-4644-aab8-390e39401917",
   "metadata": {},
   "outputs": [],
   "source": [
    "import Jetson.GPIO as GPIO\n",
    "import time\n",
    "import cv2\n",
    "import numpy\n",
    "import matplotlib.pyplot as plt  \n",
    "from PIL import Image"
   ]
  },
  {
   "cell_type": "code",
   "execution_count": null,
   "id": "34b01310-7349-4d97-8240-2a320741c9e8",
   "metadata": {},
   "outputs": [],
   "source": [
    "from GPIOESLocales import inicio()\n",
    "from VisionArtificial import captura(scale)\n",
    "from VisionArtificial import ORB_nano\n",
    "\n",
    "estado=0\n",
    "while estado==0:\n",
    "    inicio=inicio()\n",
    "    if inicio==1 :\n",
    "        captura(scale=30)\n",
    "        ORB_nano()\n",
    "        estado=1\n",
    "    \n",
    "\n"
   ]
  },
  {
   "cell_type": "code",
   "execution_count": 15,
   "id": "7baf5e19-78f6-44f4-a32d-5696209dc41b",
   "metadata": {},
   "outputs": [],
   "source": [
    "def suma():\n",
    "    global x\n",
    "    x=1"
   ]
  },
  {
   "cell_type": "code",
   "execution_count": 18,
   "id": "bc12fff9-9114-4e68-95a5-48fd12590852",
   "metadata": {},
   "outputs": [],
   "source": [
    "def resta():\n",
    "    global y\n",
    "    y=x+1"
   ]
  },
  {
   "cell_type": "code",
   "execution_count": 19,
   "id": "a5f995ea-0482-4964-baf4-69e4540b3e8b",
   "metadata": {},
   "outputs": [
    {
     "name": "stdout",
     "output_type": "stream",
     "text": [
      "2\n"
     ]
    }
   ],
   "source": [
    "suma()\n",
    "resta()\n",
    "print(y)"
   ]
  },
  {
   "cell_type": "code",
   "execution_count": null,
   "id": "967185b1-ed86-4440-ab8c-c6f83da2e773",
   "metadata": {},
   "outputs": [],
   "source": []
  }
 ],
 "metadata": {
  "kernelspec": {
   "display_name": "Python 3",
   "language": "python",
   "name": "python3"
  },
  "language_info": {
   "codemirror_mode": {
    "name": "ipython",
    "version": 3
   },
   "file_extension": ".py",
   "mimetype": "text/x-python",
   "name": "python",
   "nbconvert_exporter": "python",
   "pygments_lexer": "ipython3",
   "version": "3.6.9"
  }
 },
 "nbformat": 4,
 "nbformat_minor": 5
}
