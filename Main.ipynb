{
 "cells": [
  {
   "cell_type": "code",
   "execution_count": null,
   "id": "4503a1f1-99c4-4644-aab8-390e39401917",
   "metadata": {},
   "outputs": [],
   "source": [
    "import Jetson.GPIO as GPIO\n",
    "import time\n",
    "import cv2\n",
    "import numpy\n",
    "import matplotlib.pyplot as plt  \n",
    "from PIL import Image"
   ]
  },
  {
   "cell_type": "code",
   "execution_count": null,
   "id": "34b01310-7349-4d97-8240-2a320741c9e8",
   "metadata": {},
   "outputs": [],
   "source": [
    "from GPIOESLocales import inicio()\n",
    "from VisionArtificial import captura(scale)\n",
    "from VisionArtificial import ORB_nano\n",
    "\n",
    "estado=0\n",
    "while estado==0:\n",
    "    inicio=inicio()\n",
    "    if inicio==1 :\n",
    "        captura(scale=30)\n",
    "        ORB_nano()\n",
    "        estado=1\n",
    "    \n",
    "\n"
   ]
  }
 ],
 "metadata": {
  "kernelspec": {
   "display_name": "Python 3",
   "language": "python",
   "name": "python3"
  },
  "language_info": {
   "codemirror_mode": {
    "name": "ipython",
    "version": 3
   },
   "file_extension": ".py",
   "mimetype": "text/x-python",
   "name": "python",
   "nbconvert_exporter": "python",
   "pygments_lexer": "ipython3",
   "version": "3.6.9"
  }
 },
 "nbformat": 4,
 "nbformat_minor": 5
}
