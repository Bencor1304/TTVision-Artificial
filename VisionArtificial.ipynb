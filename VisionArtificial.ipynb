{
 "cells": [
  {
   "cell_type": "code",
   "execution_count": 1,
   "id": "0e7b08b9-f5a1-44f2-a6ac-ce2a94639afa",
   "metadata": {},
   "outputs": [],
   "source": [
    "import cv2\n",
    "import time"
   ]
  },
  {
   "cell_type": "code",
   "execution_count": 14,
   "id": "467830b0-a606-450c-8005-2773c4be977f",
   "metadata": {},
   "outputs": [],
   "source": [
    "#Toma foto\n",
    "def captura(scale):\n",
    "    camera = cv2.VideoCapture(0)\n",
    "    \n",
    "    for i in range(5):                           #Tiempo de apertura de la camara \n",
    "        return_value, image = camera.read()    \n",
    "    cv2.imwrite('captura.png', image)\n",
    "    zoom(image,scale)\n",
    "    del(camera)"
   ]
  },
  {
   "cell_type": "code",
   "execution_count": 17,
   "id": "44f006b4-0aba-493e-ab27-c7bcc015e506",
   "metadata": {},
   "outputs": [],
   "source": [
    "#Zoom \n",
    "def zoom(image,scale):\n",
    "    height, width, channels = image.shape\n",
    "    print(height, width, channels)\n",
    "    centerX,centerY=int(height/2),int(width/2)\n",
    "    radiusX,radiusY= int(scale*height/100),int(scale*width/100)\n",
    "\n",
    "    minX,maxX=centerX-radiusX,centerX+radiusX\n",
    "    minY,maxY=centerY-radiusY,centerY+radiusY\n",
    "\n",
    "    cropped = image[minX:maxX, minY:maxY]\n",
    "    imagen_zoom = cv2.resize(cropped, (width, height)) \n",
    "    imagen_gris=grises(imagen_zoom)\n",
    "    cv2.imwrite('capturazoomgris.png', imagen_gris)\n",
    "    "
   ]
  },
  {
   "cell_type": "code",
   "execution_count": 4,
   "id": "a90472f1-c091-4b64-aa3e-d035944cbf6d",
   "metadata": {},
   "outputs": [],
   "source": [
    "#Escala de grises \n",
    "def grises(imagen_zoom):\n",
    "    imagen_gris = cv2.cvtColor(imagen_zoom, cv2.COLOR_BGR2GRAY)\n",
    "    return imagen_gris"
   ]
  },
  {
   "cell_type": "code",
   "execution_count": 5,
   "id": "c8f2f499-2b72-4298-b300-f1c2f07ed3ac",
   "metadata": {},
   "outputs": [],
   "source": [
    "#ORB\n",
    "def ORB_nano():\n",
    "    img1=cv2.imread('/home/jetson/VisionArtificial/capturazoomgris.png')\n",
    "    img2=cv2.imread('/home/jetson/VisionArtificial/capturabase.png')\n",
    "    #ORB descriptor\n",
    "    orb = cv2.ORB_create()\n",
    "    #Encuentra los descriptores con ORB\n",
    "    kp1, des1 = orb.detectAndCompute(img1,None)\n",
    "    kp2, des2 = orb.detectAndCompute(img2,None)\n",
    "    #Encuentra los descriptores comunes entre ambas imagenes\n",
    "    bf = cv2.BFMatcher()\n",
    "    matches = bf.knnMatch(des1,des2,k=2)\n",
    "    #Distancia entre descriptores tolerada\n",
    "    good = []\n",
    "    for m,n in matches:\n",
    "        if m.distance < 0.75*n.distance:\n",
    "            good.append([m])\n",
    "    #impresion del resultado\n",
    "    matchesorb = (len(good))\n",
    "    PC=0\n",
    "    NC=0\n",
    "    if matchesorb>=10:\n",
    "        PC=1\n",
    "    else:\n",
    "        NC=1\n",
    "    \n",
    "    img3 = cv2.drawMatchesKnn(img1,kp1,img2,kp2,good,None,flags=cv2.DrawMatchesFlags_NOT_DRAW_SINGLE_POINTS)\n",
    "    cv2.imwrite('/home/jetson/VisionArtificial/comparacion.png', img3)\n",
    "    #plt.imshow(img3,aspect=\"auto\"),plt.show()\n",
    "    print('NC=%d y PC=%d,'%(NC,PC))"
   ]
  },
  {
   "cell_type": "code",
   "execution_count": 22,
   "id": "cead889f-f502-4995-b1e3-cc86d4f90ba9",
   "metadata": {},
   "outputs": [
    {
     "name": "stdout",
     "output_type": "stream",
     "text": [
      "360 640 3\n"
     ]
    }
   ],
   "source": [
    "captura(scale=50)"
   ]
  },
  {
   "cell_type": "code",
   "execution_count": null,
   "id": "079084ea-1fe1-4aca-b253-30d72582d77c",
   "metadata": {},
   "outputs": [],
   "source": []
  },
  {
   "cell_type": "code",
   "execution_count": null,
   "id": "322c6346-4aaf-4d67-8332-861e33c1d7a7",
   "metadata": {},
   "outputs": [],
   "source": []
  }
 ],
 "metadata": {
  "kernelspec": {
   "display_name": "Python 3",
   "language": "python",
   "name": "python3"
  },
  "language_info": {
   "codemirror_mode": {
    "name": "ipython",
    "version": 3
   },
   "file_extension": ".py",
   "mimetype": "text/x-python",
   "name": "python",
   "nbconvert_exporter": "python",
   "pygments_lexer": "ipython3",
   "version": "3.6.9"
  }
 },
 "nbformat": 4,
 "nbformat_minor": 5
}
